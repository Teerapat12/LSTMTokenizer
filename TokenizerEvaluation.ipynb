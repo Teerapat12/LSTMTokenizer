{
 "cells": [
  {
   "cell_type": "code",
   "execution_count": 1,
   "metadata": {},
   "outputs": [
    {
     "name": "stderr",
     "output_type": "stream",
     "text": [
      "Using TensorFlow backend.\n"
     ]
    }
   ],
   "source": [
    "# Importing the libraries\n",
    "import numpy as np\n",
    "import matplotlib.pyplot as plt\n",
    "import pandas as pd\n",
    "\n",
    "from keras.models import load_model\n",
    "classifier = load_model('thaiseg_300krows_8timestep_bidirection.h5')\n"
   ]
  },
  {
   "cell_type": "code",
   "execution_count": 7,
   "metadata": {},
   "outputs": [
    {
     "name": "stdout",
     "output_type": "stream",
     "text": [
      "(1172847, 10)\n"
     ]
    },
    {
     "data": {
      "text/html": [
       "<div>\n",
       "<style>\n",
       "    .dataframe thead tr:only-child th {\n",
       "        text-align: right;\n",
       "    }\n",
       "\n",
       "    .dataframe thead th {\n",
       "        text-align: left;\n",
       "    }\n",
       "\n",
       "    .dataframe tbody tr th {\n",
       "        vertical-align: top;\n",
       "    }\n",
       "</style>\n",
       "<table border=\"1\" class=\"dataframe\">\n",
       "  <thead>\n",
       "    <tr style=\"text-align: right;\">\n",
       "      <th></th>\n",
       "      <th>Unnamed: 0</th>\n",
       "      <th>0</th>\n",
       "      <th>1</th>\n",
       "      <th>2</th>\n",
       "      <th>3</th>\n",
       "      <th>4</th>\n",
       "      <th>5</th>\n",
       "      <th>6</th>\n",
       "      <th>7</th>\n",
       "      <th>isEnd</th>\n",
       "    </tr>\n",
       "  </thead>\n",
       "  <tbody>\n",
       "    <tr>\n",
       "      <th>0</th>\n",
       "      <td>0</td>\n",
       "      <td>ม</td>\n",
       "      <td>ี</td>\n",
       "      <td>ค</td>\n",
       "      <td>ำ</td>\n",
       "      <td>ถ</td>\n",
       "      <td>า</td>\n",
       "      <td>ม</td>\n",
       "      <td>ม</td>\n",
       "      <td>0</td>\n",
       "    </tr>\n",
       "    <tr>\n",
       "      <th>1</th>\n",
       "      <td>1</td>\n",
       "      <td>ี</td>\n",
       "      <td>ค</td>\n",
       "      <td>ำ</td>\n",
       "      <td>ถ</td>\n",
       "      <td>า</td>\n",
       "      <td>ม</td>\n",
       "      <td>ม</td>\n",
       "      <td>า</td>\n",
       "      <td>0</td>\n",
       "    </tr>\n",
       "    <tr>\n",
       "      <th>2</th>\n",
       "      <td>2</td>\n",
       "      <td>ค</td>\n",
       "      <td>ำ</td>\n",
       "      <td>ถ</td>\n",
       "      <td>า</td>\n",
       "      <td>ม</td>\n",
       "      <td>ม</td>\n",
       "      <td>า</td>\n",
       "      <td>ก</td>\n",
       "      <td>0</td>\n",
       "    </tr>\n",
       "    <tr>\n",
       "      <th>3</th>\n",
       "      <td>3</td>\n",
       "      <td>ำ</td>\n",
       "      <td>ถ</td>\n",
       "      <td>า</td>\n",
       "      <td>ม</td>\n",
       "      <td>ม</td>\n",
       "      <td>า</td>\n",
       "      <td>ก</td>\n",
       "      <td>ม</td>\n",
       "      <td>0</td>\n",
       "    </tr>\n",
       "    <tr>\n",
       "      <th>4</th>\n",
       "      <td>4</td>\n",
       "      <td>ถ</td>\n",
       "      <td>า</td>\n",
       "      <td>ม</td>\n",
       "      <td>ม</td>\n",
       "      <td>า</td>\n",
       "      <td>ก</td>\n",
       "      <td>ม</td>\n",
       "      <td>า</td>\n",
       "      <td>0</td>\n",
       "    </tr>\n",
       "    <tr>\n",
       "      <th>5</th>\n",
       "      <td>5</td>\n",
       "      <td>า</td>\n",
       "      <td>ม</td>\n",
       "      <td>ม</td>\n",
       "      <td>า</td>\n",
       "      <td>ก</td>\n",
       "      <td>ม</td>\n",
       "      <td>า</td>\n",
       "      <td>ย</td>\n",
       "      <td>1</td>\n",
       "    </tr>\n",
       "    <tr>\n",
       "      <th>6</th>\n",
       "      <td>6</td>\n",
       "      <td>ม</td>\n",
       "      <td>ม</td>\n",
       "      <td>า</td>\n",
       "      <td>ก</td>\n",
       "      <td>ม</td>\n",
       "      <td>า</td>\n",
       "      <td>ย</td>\n",
       "      <td>พ</td>\n",
       "      <td>0</td>\n",
       "    </tr>\n",
       "    <tr>\n",
       "      <th>7</th>\n",
       "      <td>7</td>\n",
       "      <td>ม</td>\n",
       "      <td>า</td>\n",
       "      <td>ก</td>\n",
       "      <td>ม</td>\n",
       "      <td>า</td>\n",
       "      <td>ย</td>\n",
       "      <td>พ</td>\n",
       "      <td>ร</td>\n",
       "      <td>0</td>\n",
       "    </tr>\n",
       "    <tr>\n",
       "      <th>8</th>\n",
       "      <td>8</td>\n",
       "      <td>า</td>\n",
       "      <td>ก</td>\n",
       "      <td>ม</td>\n",
       "      <td>า</td>\n",
       "      <td>ย</td>\n",
       "      <td>พ</td>\n",
       "      <td>ร</td>\n",
       "      <td>ั</td>\n",
       "      <td>0</td>\n",
       "    </tr>\n",
       "    <tr>\n",
       "      <th>9</th>\n",
       "      <td>9</td>\n",
       "      <td>ก</td>\n",
       "      <td>ม</td>\n",
       "      <td>า</td>\n",
       "      <td>ย</td>\n",
       "      <td>พ</td>\n",
       "      <td>ร</td>\n",
       "      <td>ั</td>\n",
       "      <td>่</td>\n",
       "      <td>0</td>\n",
       "    </tr>\n",
       "  </tbody>\n",
       "</table>\n",
       "</div>"
      ],
      "text/plain": [
       "   Unnamed: 0  0  1  2  3  4  5  6  7  isEnd\n",
       "0           0  ม  ี  ค  ำ  ถ  า  ม  ม      0\n",
       "1           1  ี  ค  ำ  ถ  า  ม  ม  า      0\n",
       "2           2  ค  ำ  ถ  า  ม  ม  า  ก      0\n",
       "3           3  ำ  ถ  า  ม  ม  า  ก  ม      0\n",
       "4           4  ถ  า  ม  ม  า  ก  ม  า      0\n",
       "5           5  า  ม  ม  า  ก  ม  า  ย      1\n",
       "6           6  ม  ม  า  ก  ม  า  ย  พ      0\n",
       "7           7  ม  า  ก  ม  า  ย  พ  ร      0\n",
       "8           8  า  ก  ม  า  ย  พ  ร  ั      0\n",
       "9           9  ก  ม  า  ย  พ  ร  ั  ่      0"
      ]
     },
     "execution_count": 7,
     "metadata": {},
     "output_type": "execute_result"
    }
   ],
   "source": [
    "# Importing the training set\n",
    "df = pd.read_csv('timeStep8CorpusFull.csv',encoding='utf-8')\n",
    "print(df.shape)\n",
    "df = df.head(300000)\n",
    "df.head(10)"
   ]
  },
  {
   "cell_type": "markdown",
   "metadata": {},
   "source": [
    "# X and y\n",
    "X = df[['0','1','2','3','4','5','6','7']]\n",
    "y = df[['isEnd']]\n",
    "\n",
    "#Label each character\n",
    "from sklearn import preprocessing\n",
    "le = preprocessing.LabelEncoder()\n",
    "le.fit(X[['0']])\n",
    "X = X.apply(le.transform)\n",
    "maxChar = 65"
   ]
  },
  {
   "cell_type": "code",
   "execution_count": 11,
   "metadata": {
    "collapsed": true
   },
   "outputs": [],
   "source": [
    "timeStep=8\n",
    "def thaiSegment(paragraph):\n",
    "    sentences = paragraph.split(\" \")\n",
    "    all_words = []\n",
    "    for sentence in sentences:\n",
    "        test = sentence[-timeStep+1:]+sentence #Same trick as in CNN\n",
    "        df = {}\n",
    "        for i in range(timeStep):\n",
    "            if(i-timeStep+1<0):\n",
    "                df[i] = list(test[i:i-timeStep+1])\n",
    "            else:\n",
    "                df[i] = list(test[i:])\n",
    "        df_test = pd.DataFrame(df)\n",
    "        df_test = df_test.apply(le.transform).values\n",
    "        df_test = (np.arange(maxChar) == df_test[:,:,None]-1).astype(int)\n",
    "        y_pred = classifier.predict(df_test)\n",
    "        y_pred = y_pred>0.5\n",
    "\n",
    "        df_test  = pd.DataFrame(df)\n",
    "        df_test['isEnd'] = y_pred\n",
    "\n",
    "        words = []\n",
    "        w = ''\n",
    "\n",
    "        for i in range(len(test)-timeStep+1):\n",
    "            c = test[i+timeStep-1]\n",
    "            w+= c\n",
    "            if(y_pred[i][0]==True):\n",
    "                words.append(w)\n",
    "                w=''\n",
    "\n",
    "        words.append(w)\n",
    "        if \"\" in words: \n",
    "            words.remove('')\n",
    "        all_words.append(\"|\".join(words))\n",
    "    return \" \".join(all_words)\n"
   ]
  },
  {
   "cell_type": "code",
   "execution_count": 1,
   "metadata": {
    "collapsed": true
   },
   "outputs": [],
   "source": [
    "def compareToken2Real(tokenized,real):\n",
    "    test = tokenized\n",
    "    correct = 0\n",
    "    incorrect = 0\n",
    "    i=0\n",
    "    j=0\n",
    "    if(len(tokenized)<200): print(tokenized)\n",
    "    cm = [[0,0],[0,0]]\n",
    "    print(\"Start comparing\")\n",
    "    while(i<len(real) and j<len(test)):\n",
    "        if(real[i]==\"|\" and test[j]==\"|\"):#True Positive\n",
    "            cm[0][0]+=1\n",
    "            i+=1\n",
    "            j+=1\n",
    "        elif(real[i]==test[j]):#True Negative\n",
    "            cm[1][1]+=1\n",
    "            i+=1\n",
    "            j+=1\n",
    "        elif(real[i]==\"|\"):#False Negative\n",
    "            cm[0][1]+=1\n",
    "            i+=2\n",
    "            j+=1\n",
    "        elif(test[j]==\"|\"):#False Positive\n",
    "            cm[1][0]+=1\n",
    "            j+=2\n",
    "            i+=1\n",
    "    n = cm[0][0]+cm[1][1]+cm[0][1]+cm[1][0]\n",
    "    acc = (cm[0][0]+cm[1][1])/n\n",
    "    precision = cm[0][0]/(cm[0][0]+cm[1][0])\n",
    "    recall = cm[0][0]/(cm[0][0]+cm[0][1])\n",
    "    n = cm[0][0]+cm[1][1]+cm[0][1]+cm[1][0]\n",
    "    acc = (cm[0][0]+cm[1][1])/n\n",
    "    precision = cm[0][0]/(cm[0][0]+cm[1][0])\n",
    "    recall = cm[0][0]/(cm[0][0]+cm[0][1])\n",
    "    \n",
    "    print(\"Accuracy : {:0.2f}\".format(acc*100))\n",
    "    print(\"Precision : {:0.2f}\".format(precision*100))\n",
    "    print(\"Recall : {:0.2f}\".format(recall*100))\n",
    "    \n",
    "    if(recall+precision!=0):\n",
    "        f1 =((2*precision*recall)/(precision+recall))*100\n",
    "        print(\"F1 Score : {:0.2f}\".format(f1))\n",
    "    else:\n",
    "        f1 = 0\n",
    "        print(\"F1 Score : 0.00\")\n",
    "    return (acc,precision,recall,f1)"
   ]
  },
  {
   "cell_type": "code",
   "execution_count": 12,
   "metadata": {},
   "outputs": [
    {
     "name": "stdout",
     "output_type": "stream",
     "text": [
      "ปกปิด|ข้อมูล|การ|ระบาด|ของ|โรคต่อเกษตรกรจน|ทำ|ให้|ไก่|ที่|เกษตรกรเลี้ยง|ไว้|เป็น|ราย|ได้|หลัก|ของ|ครัว|เรือน|ต้องตาย|เป็น|จำนวน|มหาศาล\n",
      "Start comparing\n",
      "Accuracy : 95.49\n",
      "Precision : 95.45\n",
      "Recall : 80.77\n",
      "F1 Score : 87.50\n"
     ]
    }
   ],
   "source": [
    "def compareTokenizerScore(sentence='สวัสดี|ครับ|ผม|ชื่อ|เคอิโงะ'):\n",
    "    raw_sentence = sentence.replace(\"|\",\"\")\n",
    "\n",
    "    tokenized4 = thaiSegment(raw_sentence)\n",
    "\n",
    "\n",
    "    compareToken2Real(tokenized4,sentence)\n",
    "    \n",
    "    \n",
    "compareTokenizerScore('ปกปิด|ข้อมูล|การ|ระบาด|ของ|โรค|ต่อ|เกษตรกร|จน|ทำ|ให้|ไก่|ที่|เกษตรกร|เลี้ยง|ไว้|เป็น|ราย|ได้|หลัก|ของ|ครัวเรือน|ต้อง|ตาย|เป็น|จำนวน|มหาศาล')"
   ]
  },
  {
   "cell_type": "code",
   "execution_count": 14,
   "metadata": {
    "collapsed": true
   },
   "outputs": [],
   "source": [
    "#Compare with other tokenizer\n",
    "def convertLetter(row):\n",
    "    return row['7'] if row['isEnd']==0 else row['7']+\"|\"\n",
    "df['letter'] = df.apply(convertLetter,axis=1)\n",
    "testString = \"\".join(df['letter'].values)"
   ]
  },
  {
   "cell_type": "code",
   "execution_count": 25,
   "metadata": {},
   "outputs": [
    {
     "name": "stdout",
     "output_type": "stream",
     "text": [
      "Test set 1\n",
      "Start comparing\n",
      "Accuracy : 96.76\n",
      "Precision : 90.18\n",
      "Recall : 94.02\n",
      "F1 Score : 92.06\n",
      "Test set 2\n",
      "Start comparing\n",
      "Accuracy : 96.51\n",
      "Precision : 90.35\n",
      "Recall : 92.61\n",
      "F1 Score : 91.47\n",
      "Test set 3\n",
      "Start comparing\n",
      "Accuracy : 96.50\n",
      "Precision : 90.79\n",
      "Recall : 92.27\n",
      "F1 Score : 91.52\n"
     ]
    }
   ],
   "source": [
    "print(\"Test set 1\")\n",
    "compareTokenizerScore(testString[:100000])\n",
    "print(\"Test set 2\")\n",
    "compareTokenizerScore(testString[100001:220000])\n",
    "print(\"Test set 3\")\n",
    "compareTokenizerScore(testString[250001:300000])"
   ]
  },
  {
   "cell_type": "code",
   "execution_count": 15,
   "metadata": {},
   "outputs": [
    {
     "name": "stdout",
     "output_type": "stream",
     "text": [
      "Test set 4\n",
      "Start comparing\n",
      "Accuracy : 96.08\n",
      "Precision : 89.24\n",
      "Recall : 91.87\n",
      "F1 Score : 90.53\n"
     ]
    }
   ],
   "source": [
    "print(\"Test set 4\")\n",
    "compareTokenizerScore(testString[320001:420000])"
   ]
  },
  {
   "cell_type": "code",
   "execution_count": 28,
   "metadata": {},
   "outputs": [
    {
     "name": "stdout",
     "output_type": "stream",
     "text": [
      "พรุ่ง|นี้|จะ|ไป|โรงเรียน|แล้ว อย่าตื่น|สาย|นะ\n",
      "Start comparing\n",
      "Accuracy : 95.45\n",
      "Precision : 85.71\n",
      "Recall : 85.71\n",
      "F1 Score : 85.71\n"
     ]
    }
   ],
   "source": [
    "compareTokenizerScore(\"พรุ่งนี้|จะ|ไป|โรงเรียน|แล้ว อย่า|ตื่น|สาย|นะ\")"
   ]
  },
  {
   "cell_type": "code",
   "execution_count": 30,
   "metadata": {},
   "outputs": [
    {
     "name": "stdout",
     "output_type": "stream",
     "text": [
      "ถ้า|เทอไม่|ปัย|กิน|ข้าว|กับ|ชั้น ชั้น|จะ|ฟ้อง|ป๊า\n",
      "Start comparing\n",
      "Accuracy : 97.96\n",
      "Precision : 100.00\n",
      "Recall : 90.00\n",
      "F1 Score : 94.74\n"
     ]
    }
   ],
   "source": [
    "compareTokenizerScore(\"ถ้า|เทอ|ไม่|ปัย|กิน|ข้าว|กับ|ชั้น ชั้น|จะ|ฟ้อง|ป๊า\")"
   ]
  },
  {
   "cell_type": "code",
   "execution_count": 31,
   "metadata": {},
   "outputs": [
    {
     "name": "stdout",
     "output_type": "stream",
     "text": [
      "คัย|หน้า|นัย|ก้อหยุด|เรา|มัย|ดั้ย|หร้อก\n",
      "Start comparing\n",
      "Accuracy : 97.44\n",
      "Precision : 100.00\n",
      "Recall : 87.50\n",
      "F1 Score : 93.33\n"
     ]
    }
   ],
   "source": [
    "compareTokenizerScore(\"คัย|หน้า|นัย|ก้อ|หยุด|เรา|มัย|ดั้ย|หร้อก\")"
   ]
  },
  {
   "cell_type": "code",
   "execution_count": 36,
   "metadata": {},
   "outputs": [
    {
     "name": "stdout",
     "output_type": "stream",
     "text": [
      "สนุกมา|ก|กกกกกกกเลย|ยย|ยย|ยยยย\n",
      "Start comparing\n",
      "Accuracy : 72.00\n",
      "Precision : 0.00\n",
      "Recall : 0.00\n",
      "F1 Score : 0.00\n"
     ]
    }
   ],
   "source": [
    "compareTokenizerScore(\"สนุก|มากกกกกกกก|เลยยยยยยยยย\")"
   ]
  },
  {
   "cell_type": "code",
   "execution_count": 42,
   "metadata": {},
   "outputs": [
    {
     "name": "stdout",
     "output_type": "stream",
     "text": [
      "ครูสอน|คณิตศาสตร์|สอน|ยากจุง|เบย\n",
      "Start comparing\n",
      "Accuracy : 96.88\n",
      "Precision : 100.00\n",
      "Recall : 80.00\n",
      "F1 Score : 88.89\n"
     ]
    }
   ],
   "source": [
    "compareTokenizerScore(\"ครู|สอน|คณิตศาสตร์|สอน|ยากจุง|เบย\")"
   ]
  },
  {
   "cell_type": "code",
   "execution_count": null,
   "metadata": {
    "collapsed": true
   },
   "outputs": [],
   "source": []
  }
 ],
 "metadata": {
  "kernelspec": {
   "display_name": "Python 3",
   "language": "python",
   "name": "python3"
  },
  "language_info": {
   "codemirror_mode": {
    "name": "ipython",
    "version": 3
   },
   "file_extension": ".py",
   "mimetype": "text/x-python",
   "name": "python",
   "nbconvert_exporter": "python",
   "pygments_lexer": "ipython3",
   "version": "3.5.3"
  }
 },
 "nbformat": 4,
 "nbformat_minor": 2
}
